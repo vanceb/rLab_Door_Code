{
 "cells": [
  {
   "cell_type": "markdown",
   "metadata": {},
   "source": [
    "# Design Process"
   ]
  },
  {
   "cell_type": "markdown",
   "metadata": {},
   "source": [
    "## Intro\n",
    "\n",
    "I have used JLCPCB to manufacture blank boards before, but this board is my first attempt to design a board that will be (mostly) populated by [JLCPCB](https://jlcpcb.com/).\n",
    "My design process needs to be slightly different to ensure I get the right components with the right footprints in my design."
   ]
  },
  {
   "cell_type": "markdown",
   "metadata": {},
   "source": [
    "## JLCPCB Manufacture\n",
    "\n",
    "### Basic and Extended Parts\n",
    "\n",
    "JLCPCB have a set of \"Basic Parts\", and access to LCSC parts that are \"Extended Parts\".\n",
    "Extended parts have a $3 additional charge for each different component.\n",
    "This covers their costs of having to load up the pick'n'place machine with the new components.\n",
    "Additionally, they may have a larger order quantity that you do when using LCSC parts.\n",
    "There is a strong financial benefit from staying away from extended components!\n",
    "\n"
   ]
  },
  {
   "cell_type": "markdown",
   "metadata": {},
   "source": [
    "### Fabrication\n",
    "\n",
    "#### Economy Fabrication\n",
    "\n",
    "Economy fabrication is the cheapest, but not all components are supported. \n",
    "Namely the ESP32 requires you to use Standard fabrication.\n",
    "In my case for 5 Controller boards this doubles the price.\n",
    "\n",
    "#### Standard Fabrication\n",
    "\n",
    "Standard fabrication has a few more requirements in the board design\n",
    "The PCB must have 5mm rails without components and fiducials within this area.  \n",
    "[Details](https://support.jlcpcb.com/article/196-how-to-add-edge-rails-fiducials-for-pcb-assembly-order)\n",
    "\n",
    "I may tweak the board to meet the specifications, but for my V0.1 boards I think I am going to opt for putting the ESP32 on the board myself to save £50."
   ]
  },
  {
   "cell_type": "markdown",
   "metadata": {},
   "source": [
    "## Adding Parts to Kicad\n",
    "\n",
    "### Scematic Part\n",
    "\n",
    "### Footprint\n",
    "\n",
    "![MP1584 Pinout](img/MP1584-Pinout.jpg)\n",
    "![MP1584 Size](img/MP1584_Size.jpg)"
   ]
  },
  {
   "cell_type": "markdown",
   "metadata": {},
   "source": [
    "## Kikit\n",
    "\n",
    "### Panelization\n",
    "\n",
    "~~~sh\n",
    "kikit panelize \\\n",
    "--layout 'grid; rows: 2; cols: 2; space: 2mm' \\\n",
    "--tabs 'fixed; width: 3mm; vcount: 2' \\\n",
    "--cuts 'mousebites; drill: 0.5mm; spacing: 1mm; offset: 0.2mm; prolong: 0.5mm' \\\n",
    "--framing 'frame; width: 5mm; space: 3mm; cuts: both' \\\n",
    "--post 'millradius: 1mm' \\\n",
    "CH340G_Programmer.kicad_pcb \\\n",
    "panel.kicad_pcb\n",
    "~~~\n",
    "\n",
    "### Fabrication\n",
    "\n",
    "~~~sh\n",
    "kikit fab jlcpcb \\\n",
    "--assembly \\\n",
    "--schematic CH340G_Programmer.kicad_sch \\\n",
    "CH340G_Programmer.kicad_pcb \\\n",
    "kikit_fab\n",
    "~~~"
   ]
  },
  {
   "cell_type": "markdown",
   "metadata": {},
   "source": [
    "\n",
    "## LCSC Parts\n",
    "\n",
    "### LCSC Parts Order Notes\n",
    "\n",
    "| LCSC | Qty | Part |\n",
    "| --- | --- | --- |\n",
    "| C701342 | 5 | ESP32E(8M) |\n",
    "| C2935996 | 20 | 6-way Pin Socket 90 |\n",
    "| C2685101 | 2 | 26-pin Pi Header |\n",
    "| C2829905 | 3 | 40-pin Pi Header |\n",
    "| C118954 | 20 | 10-turn 10k pot |\n",
    "| C8545 | 20 | 2N7002, signal MOSFET |"
   ]
  }
 ],
 "metadata": {
  "language_info": {
   "name": "python"
  },
  "orig_nbformat": 4
 },
 "nbformat": 4,
 "nbformat_minor": 2
}
